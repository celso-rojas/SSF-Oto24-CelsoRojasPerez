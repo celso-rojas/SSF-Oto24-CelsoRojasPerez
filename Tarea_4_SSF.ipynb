{
  "nbformat": 4,
  "nbformat_minor": 0,
  "metadata": {
    "colab": {
      "provenance": [],
      "authorship_tag": "ABX9TyOs7KDyDCJ1bOI3ttIK9NU7",
      "include_colab_link": true
    },
    "kernelspec": {
      "name": "python3",
      "display_name": "Python 3"
    },
    "language_info": {
      "name": "python"
    }
  },
  "cells": [
    {
      "cell_type": "markdown",
      "metadata": {
        "id": "view-in-github",
        "colab_type": "text"
      },
      "source": [
        "<a href=\"https://colab.research.google.com/github/celso-rojas/SSF-Oto24-CelsoRojasPerez/blob/main/Tarea_4_SSF.ipynb\" target=\"_parent\"><img src=\"https://colab.research.google.com/assets/colab-badge.svg\" alt=\"Open In Colab\"/></a>"
      ]
    },
    {
      "cell_type": "code",
      "execution_count": null,
      "metadata": {
        "id": "is9ZmgZplWDw"
      },
      "outputs": [],
      "source": [
        "import numpy as np\n",
        "import matplotlib.pyplot as plt\n",
        "\n",
        "# Parámetros del sistema\n",
        "omega = 1.0  # Frecuencia angular\n",
        "beta = 0.1   # Factor de no linealidad\n",
        "\n",
        "# Definir el sistema de ecuaciones diferenciales\n",
        "def f(t, y):\n",
        "    x, v = y\n",
        "    dxdt = v\n",
        "    dvdt = -omega**2 * x - beta * x**3\n",
        "    return np.array([dxdt, dvdt])\n",
        "\n",
        "# Método de Euler mejorado (Heun)\n",
        "def euler_mejorado_step(f, t, y, h):\n",
        "    k1 = f(t, y)  # Pendiente inicial\n",
        "    k2 = f(t + h, y + h * k1)  # Pendiente en el siguiente paso\n",
        "    return y + h * (k1 + k2) / 2  # Promedio de las pendientes\n",
        "\n",
        "# Resolver el sistema usando Euler mejorado\n",
        "def solve_oscillator(f, y0, t0, tf, h):\n",
        "    t = np.arange(t0, tf, h)  # Crear los puntos de tiempo\n",
        "    y = np.zeros((len(t), len(y0)))  # Inicializar solución\n",
        "    y[0] = y0  # Condiciones iniciales\n",
        "\n",
        "    # Iterar sobre el tiempo usando el método de Euler mejorado\n",
        "    for i in range(1, len(t)):\n",
        "        y[i] = euler_mejorado_step(f, t[i - 1], y[i - 1], h)\n",
        "\n",
        "    return t, y\n",
        "\n",
        "# Condiciones iniciales\n",
        "x0 = 1.0  # Posición inicial\n",
        "v0 = 0.0  # Velocidad inicial\n",
        "y0 = np.array([x0, v0])\n",
        "\n",
        "# Parámetros de integración\n",
        "t0 = 0.0     # Tiempo inicial\n",
        "tf = 40.0    # Tiempo final\n",
        "h = 0.001     # Paso de tiempo\n",
        "\n",
        "# Resolver el sistema\n",
        "t, y = solve_oscillator(f, y0, t0, tf, h)\n",
        "\n",
        "# Extraer las soluciones de posición y velocidad\n",
        "x = y[:, 0]\n",
        "v = y[:, 1]\n",
        "\n",
        "# Graficar la evolución temporal de posición y velocidad\n",
        "plt.figure(figsize=(12, 6))\n",
        "plt.subplot(1, 2, 1)\n",
        "plt.plot(t, x, label=\"Posición (x)\")\n",
        "plt.plot(t, v, label=\"Velocidad (v)\")\n",
        "plt.xlabel(\"Tiempo (t)\")\n",
        "plt.ylabel(\"Amplitud\")\n",
        "plt.title(\"Oscilador no lineal (Euler mejorado)\")\n",
        "plt.legend()\n",
        "plt.grid()\n",
        "\n",
        "# Graficar el diagrama de fase (x vs. v)\n",
        "plt.subplot(1, 2, 2)\n",
        "plt.plot(x, v)\n",
        "plt.xlabel(\"x (posición)\")\n",
        "plt.ylabel(\"v (velocidad)\")\n",
        "plt.title(\"Diagrama de fase (Euler mejorado)\")\n",
        "plt.grid()\n",
        "\n",
        "plt.tight_layout()\n",
        "plt.show()\n"
      ]
    }
  ]
}
{
  "nbformat": 4,
  "nbformat_minor": 0,
  "metadata": {
    "colab": {
      "provenance": [],
      "authorship_tag": "ABX9TyOBJeb23lLnJf73U9N9plH6",
      "include_colab_link": true
    },
    "kernelspec": {
      "name": "python3",
      "display_name": "Python 3"
    },
    "language_info": {
      "name": "python"
    }
  },
  "cells": [
    {
      "cell_type": "markdown",
      "metadata": {
        "id": "view-in-github",
        "colab_type": "text"
      },
      "source": [
        "<a href=\"https://colab.research.google.com/github/celso-rojas/SSF-Oto24-CelsoRojasPerez/blob/main/T8_SSF.ipynb\" target=\"_parent\"><img src=\"https://colab.research.google.com/assets/colab-badge.svg\" alt=\"Open In Colab\"/></a>"
      ]
    },
    {
      "cell_type": "code",
      "source": [
        "import numpy as np\n",
        "import math\n",
        "\n",
        "# **Parte A: Probabilidad de seleccionar 3 mujeres**\n",
        "# Número de mujeres y total de alumnos\n",
        "n_mujeres = 9\n",
        "n_total = 40\n",
        "k = 3  # Selección de 3 alumnos\n",
        "\n",
        "# Cálculo de combinaciones\n",
        "combinacion_mujeres = math.comb(n_mujeres, k)\n",
        "combinacion_total = math.comb(n_total, k)\n",
        "\n",
        "# Probabilidad de que los 3 seleccionados sean mujeres\n",
        "probabilidad = combinacion_mujeres / combinacion_total\n",
        "print(f\"Probabilidad de seleccionar 3 mujeres: {probabilidad:.6f}\")\n",
        "\n",
        "# **Parte B: Simulación de calificaciones aleatorias**\n",
        "# Parámetros de la distribución uniforme\n",
        "a = 5  # Calificación mínima\n",
        "b = 10  # Calificación máxima\n",
        "\n",
        "# Calcular el promedio y la varianza teórica de la distribución uniforme\n",
        "promedio_teorico = (a + b) / 2\n",
        "varianza_teorica = ((b - a) ** 2) / 12\n",
        "print(f\"Promedio teórico: {promedio_teorico:.2f}\")\n",
        "print(f\"Varianza teórica: {varianza_teorica:.2f}\")\n",
        "\n",
        "# Número de alumnos en la clase\n",
        "n_alumnos = 100\n",
        "\n",
        "# Simulación del experimento para 10 cursos\n",
        "experimentos = []\n",
        "for _ in range(10):  # Repetir 10 cursos\n",
        "    # Generar calificaciones aleatorias entre 5 y 10\n",
        "    calificaciones = np.random.uniform(a, b, n_alumnos)\n",
        "\n",
        "    # Calcular promedio y varianza para cada curso\n",
        "    promedio = np.mean(calificaciones)\n",
        "    varianza = np.var(calificaciones)\n",
        "    experimentos.append((promedio, varianza))\n",
        "\n",
        "# Mostrar los resultados de los experimentos\n",
        "print(\"\\nResultados de los 10 cursos:\")\n",
        "for i, (promedio, varianza) in enumerate(experimentos):\n",
        "    print(f\"Curso {i+1}: Promedio = {promedio:.2f}, Varianza = {varianza:.2f}\")\n",
        "\n",
        "# **Parte C: Calcular promedio y desviación estándar de los promedios**\n",
        "# Extraer solo los promedios de cada experimento\n",
        "promedios = [exp[0] for exp in experimentos]\n",
        "\n",
        "# Calcular el promedio y la desviación estándar de los promedios\n",
        "promedio_promedios = np.mean(promedios)\n",
        "desviacion_estandar_promedios = np.std(promedios)\n",
        "\n",
        "print(f\"\\nPromedio de los promedios: {promedio_promedios:.2f}\")\n",
        "print(f\"Desviación estándar de los promedios: {desviacion_estandar_promedios:.2f}\")\n"
      ],
      "metadata": {
        "colab": {
          "base_uri": "https://localhost:8080/"
        },
        "id": "kkuZGzvriH1s",
        "outputId": "0577f5e8-c400-494a-85d9-833ace7868c0"
      },
      "execution_count": 2,
      "outputs": [
        {
          "output_type": "stream",
          "name": "stdout",
          "text": [
            "Probabilidad de seleccionar 3 mujeres: 0.008502\n",
            "Promedio teórico: 7.50\n",
            "Varianza teórica: 2.08\n",
            "\n",
            "Resultados de los 10 cursos:\n",
            "Curso 1: Promedio = 7.44, Varianza = 2.24\n",
            "Curso 2: Promedio = 7.71, Varianza = 1.99\n",
            "Curso 3: Promedio = 7.46, Varianza = 1.72\n",
            "Curso 4: Promedio = 7.55, Varianza = 1.97\n",
            "Curso 5: Promedio = 7.48, Varianza = 2.26\n",
            "Curso 6: Promedio = 7.47, Varianza = 1.79\n",
            "Curso 7: Promedio = 7.77, Varianza = 2.02\n",
            "Curso 8: Promedio = 7.50, Varianza = 1.90\n",
            "Curso 9: Promedio = 7.52, Varianza = 2.20\n",
            "Curso 10: Promedio = 7.48, Varianza = 1.87\n",
            "\n",
            "Promedio de los promedios: 7.54\n",
            "Desviación estándar de los promedios: 0.11\n"
          ]
        }
      ]
    }
  ]
}